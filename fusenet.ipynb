{
 "cells": [
  {
   "cell_type": "markdown",
   "metadata": {
    "colab_type": "text",
    "id": "view-in-github"
   },
   "source": [
    "<a href=\"https://colab.research.google.com/gist/jonathanvevance/41b7b86a8332cc2424cddb5731efa4f2/define_network.ipynb\" target=\"_parent\"><img src=\"https://colab.research.google.com/assets/colab-badge.svg\" alt=\"Open In Colab\"/></a>"
   ]
  },
  {
   "cell_type": "code",
   "execution_count": 1,
   "metadata": {
    "colab": {
     "base_uri": "https://localhost:8080/",
     "height": 34
    },
    "id": "PztQNzb89Nkz",
    "outputId": "d6eb247b-a4d4-4815-ce54-8774677105c1"
   },
   "outputs": [
    {
     "ename": "ModuleNotFoundError",
     "evalue": "No module named 'torch'",
     "output_type": "error",
     "traceback": [
      "\u001b[1;31m---------------------------------------------------------------------------\u001b[0m",
      "\u001b[1;31mModuleNotFoundError\u001b[0m                       Traceback (most recent call last)",
      "\u001b[1;32m<ipython-input-1-2343133454ed>\u001b[0m in \u001b[0;36m<module>\u001b[1;34m\u001b[0m\n\u001b[0;32m      1\u001b[0m \u001b[1;32mimport\u001b[0m \u001b[0mmath\u001b[0m\u001b[1;33m\u001b[0m\u001b[1;33m\u001b[0m\u001b[0m\n\u001b[1;32m----> 2\u001b[1;33m \u001b[1;32mimport\u001b[0m \u001b[0mtorch\u001b[0m\u001b[1;33m\u001b[0m\u001b[1;33m\u001b[0m\u001b[0m\n\u001b[0m\u001b[0;32m      3\u001b[0m \u001b[1;32mimport\u001b[0m \u001b[0mnumpy\u001b[0m \u001b[1;32mas\u001b[0m \u001b[0mnp\u001b[0m\u001b[1;33m\u001b[0m\u001b[1;33m\u001b[0m\u001b[0m\n\u001b[0;32m      4\u001b[0m \u001b[1;32mimport\u001b[0m \u001b[0mtorch\u001b[0m\u001b[1;33m.\u001b[0m\u001b[0mnn\u001b[0m \u001b[1;32mas\u001b[0m \u001b[0mnn\u001b[0m\u001b[1;33m\u001b[0m\u001b[1;33m\u001b[0m\u001b[0m\n\u001b[0;32m      5\u001b[0m \u001b[1;32mimport\u001b[0m \u001b[0mtorch\u001b[0m\u001b[1;33m.\u001b[0m\u001b[0moptim\u001b[0m \u001b[1;32mas\u001b[0m \u001b[0moptim\u001b[0m\u001b[1;33m\u001b[0m\u001b[1;33m\u001b[0m\u001b[0m\n",
      "\u001b[1;31mModuleNotFoundError\u001b[0m: No module named 'torch'"
     ]
    }
   ],
   "source": [
    "import math\n",
    "import torch\n",
    "import numpy as np\n",
    "import torch.nn as nn\n",
    "import torch.optim as optim\n",
    "import torch.nn.functional as F\n",
    "from torch.utils.data import DataLoader, IterableDataset\n",
    "from torchvision.datasets import CIFAR100\n",
    "import torchvision.transforms as transforms\n",
    "print(torch.cuda.get_device_name(0))"
   ]
  },
  {
   "cell_type": "code",
   "execution_count": 2,
   "metadata": {
    "colab": {
     "base_uri": "https://localhost:8080/",
     "height": 34
    },
    "id": "6f6YIGnI8BO8",
    "outputId": "42f849fa-db1f-4949-dd1a-d13dafa6e0f9"
   },
   "outputs": [
    {
     "name": "stdout",
     "output_type": "stream",
     "text": [
      "Running on the GPU\n"
     ]
    }
   ],
   "source": [
    "if torch.cuda.is_available():\n",
    "    device = torch.device(\"cuda:0\") \n",
    "    print(\"Running on the GPU\")\n",
    "else:\n",
    "    device = torch.device(\"cpu\")\n",
    "    print(\"Running on the CPU\")"
   ]
  },
  {
   "cell_type": "code",
   "execution_count": 3,
   "metadata": {
    "id": "WhUTuD3WzBII"
   },
   "outputs": [],
   "source": [
    "H = W = 32"
   ]
  },
  {
   "cell_type": "code",
   "execution_count": 4,
   "metadata": {
    "id": "ZfcjyVciAoOQ"
   },
   "outputs": [],
   "source": [
    "class Hsigmoid(nn.Module):                                                                                                                                                                  \n",
    "    def __init__(self, inplace = True):                                                                                                                                                       \n",
    "        super(Hsigmoid, self).__init__()                                                                                                                                                    \n",
    "        self.inplace = inplace                                                                                                                                                              \n",
    "                                                                                                                                                                                            \n",
    "    def forward(self, x):                                                                                                                                                                   \n",
    "        return F.relu6(x + 3., inplace = self.inplace) / 6.                                                                                                                                   \n",
    "                                                                                                "
   ]
  },
  {
   "cell_type": "code",
   "execution_count": 5,
   "metadata": {
    "id": "ps_ilZPbBdtA"
   },
   "outputs": [],
   "source": [
    " class SEModule(nn.Module):                                                                                                                                                                  \n",
    "    def __init__(self, channel, reduction = 4):                                                                                                                                               \n",
    "        super(SEModule, self).__init__()                                                                                                                                                    \n",
    "        self.avg_pool = nn.AdaptiveAvgPool2d(1)                                                                                                                                             \n",
    "        self.fc = nn.Sequential(                                                                                                                                                            \n",
    "            nn.Linear(channel, channel // reduction, bias = False),                                                                                                                           \n",
    "            nn.ReLU(inplace = True),                                                                                                                                                          \n",
    "            nn.Linear(channel // reduction, channel, bias = False),                                                                                                                           \n",
    "            Hsigmoid()                                                                                                                                                                      \n",
    "        )                                                                                                                                                                                   \n",
    "                                                                                                                                                                                             \n",
    "    def forward(self, x):                                                                                                                                                                   \n",
    "        b, c, _, _ = x.size()                                                                                                                                                               \n",
    "        y = self.avg_pool(x).view(b, c)                                                                                                                                                     \n",
    "        y = self.fc(y).view(b, c, 1, 1)                                                                                                                                                     \n",
    "        return x * y.expand_as(x)  \n"
   ]
  },
  {
   "cell_type": "code",
   "execution_count": 6,
   "metadata": {
    "id": "VgQ0sniDDXZX"
   },
   "outputs": [],
   "source": [
    "class Hswish(nn.Module):                                                                                                                                                                    \n",
    "    def __init__(self, inplace = True):                                                                                                                                                       \n",
    "        super(Hswish, self).__init__()                                                                                                                                                      \n",
    "        self.inplace = inplace                                                                                                                                                              \n",
    "                                                                                                                                                                                            \n",
    "    def forward(self, x):                                                                                                                                                                   \n",
    "        return x * F.relu6(x + 3., inplace = self.inplace) / 6.       "
   ]
  },
  {
   "cell_type": "code",
   "execution_count": 7,
   "metadata": {
    "id": "thtj8t4sDakA"
   },
   "outputs": [],
   "source": [
    "class FuseBlock(nn.Module):\n",
    "    def __init__(self, inC, exp, K, stride, oup, is_SE, activ_func):\n",
    "        \n",
    "        super(FuseBlock, self).__init__()\n",
    "        self.is_SE = is_SE\n",
    "        self.activ_func = activ_func\n",
    "        pad = (K - 1) // 2\n",
    "        \n",
    "        self.conv_11 = nn.Conv2d(\n",
    "            in_channels = inC, out_channels = exp, kernel_size = 1, bias = False) \n",
    "        self.batch_norm_11 = nn.BatchNorm2d(num_features = exp)\n",
    "\n",
    "        self.conv_dw_1k = nn.Conv2d(\n",
    "            in_channels = exp, out_channels = exp, kernel_size = (1, K), \n",
    "            groups = exp, stride = stride, padding = (0, pad), bias = False)\n",
    "        self.batch_norm_1k = nn.BatchNorm2d(num_features = exp) \n",
    "\n",
    "        self.conv_dw_k1 = nn.Conv2d(\n",
    "            in_channels = exp, out_channels = exp, kernel_size = (K, 1), \n",
    "            groups = exp, stride = stride, padding = (pad, 0), bias = False)\n",
    "        self.batch_norm_k1 = nn.BatchNorm2d(num_features = exp)\n",
    "\n",
    "        if self.is_SE:\n",
    "            self.SEBlock = SEModule(2 * exp)\n",
    "            self.HSLayer = Hsigmoid() \n",
    "\n",
    "        self.conv_11_final = nn.Conv2d(\n",
    "            in_channels = 2 * exp, out_channels = oup, kernel_size = 1, bias = False)  \n",
    "        self.batch_norm_11_final = nn.BatchNorm2d(num_features = oup)\n",
    "\n",
    "\n",
    "    def forward(self, x):\n",
    "\n",
    "        x = self.activ_func(self.batch_norm_11(self.conv_11(x)))\n",
    "        left = self.batch_norm_1k(self.conv_dw_1k(x))  ## try same batch norm\n",
    "        right = self.batch_norm_k1(self.conv_dw_k1(x)) ## try same batch norm\n",
    "        x = torch.cat([left, right], 1)\n",
    "\n",
    "        if self.is_SE:\n",
    "            x = self.HSLayer(self.SEBlock(x))\n",
    "\n",
    "        x = self.activ_func(x)\n",
    "        x = self.batch_norm_11_final(self.conv_11_final(x))\n",
    "\n",
    "        return x\n"
   ]
  },
  {
   "cell_type": "code",
   "execution_count": 24,
   "metadata": {
    "id": "hgfz2nI5mxSU"
   },
   "outputs": [],
   "source": [
    "class FuseNet(nn.Module):\n",
    "    def __init__(self):\n",
    "\n",
    "        super(FuseNet, self).__init__()\n",
    "        self.layers = nn.ModuleList()\n",
    "\n",
    "        self.conv_1 = nn.Conv2d(\n",
    "            in_channels = 3, out_channels = 16, kernel_size = 3, stride = 2, padding = 1, bias = False)\n",
    "        self.batch_norm_1c = nn.BatchNorm2d(num_features = 16\n",
    "\n",
    "        self.fuse_2 = FuseBlock(\n",
    "            inC = 16, exp = 16, K = 3, stride = 2, oup = 16, is_SE = True, activ_func = nn.ReLU()\n",
    "\n",
    "        self.fuse_3 = FuseBlock(\n",
    "            inC = 16, exp = 72, K = 3, stride = 2, oup = 24, is_SE = False, activ_func = nn.ReLU()\n",
    "\n",
    "        self.fuse_4 = FuseBlock(\n",
    "            inC = 24, exp = 88, K = 3, stride = 1, oup = 24, is_SE = False, activ_func = nn.ReLU())\n",
    "        self.layers.append(self.fuse_4)\n",
    "\n",
    "        self.fuse_5 = FuseBlock(\n",
    "            inC = 24, exp = 96, K = 5, stride = 2, oup = 40, is_SE = True, activ_func = Hswish())\n",
    "\n",
    "        self.fuse_6 = FuseBlock(\n",
    "            inC = 40, exp = 240, K = 5, stride = 1, oup = 40, is_SE = True, activ_func = Hswish())\n",
    "\n",
    "        self.fuse_7 = FuseBlock(\n",
    "            inC = 40, exp = 240, K = 5, stride = 1, oup = 40, is_SE = True, activ_func = Hswish())\n",
    "\n",
    "        self.fuse_8 = FuseBlock(\n",
    "            inC = 40, exp = 120, K = 5, stride = 1, oup = 48, is_SE = True, activ_func = Hswish())\n",
    "    \n",
    "        self.fuse_9 = FuseBlock(\n",
    "            inC = 48, exp = 144, K = 5, stride = 1, oup = 48, is_SE = True, activ_func = Hswish())\n",
    "\n",
    "        self.fuse_10 = FuseBlock(\n",
    "            inC = 48, exp = 288, K = 5, stride = 2, oup = 96, is_SE = True, activ_func = Hswish())\n",
    "\n",
    "        self.fuse_11 = FuseBlock(\n",
    "            inC = 96, exp = 576, K = 5, stride = 1, oup = 96, is_SE = True, activ_func = Hswish())\n",
    "\n",
    "        self.fuse_12 = FuseBlock(\n",
    "            inC = 96, exp = 576, K = 5, stride = 1, oup = 96, is_SE = True, activ_func = Hswish())\n",
    "\n",
    "        self.conv_2 = nn.Conv2d(\n",
    "            in_channels = 96, out_channels = 576, kernel_size = 1, bias = False)\n",
    "        self.batch_norm_2c = nn.BatchNorm2d(num_features = 576)\n",
    "\n",
    "        self.avg_pooling = nn.AdaptiveAvgPool2d(output_size = 1)\n",
    "\n",
    "        self.conv_3 = nn.Conv2d(\n",
    "            in_channels = 576, out_channels = 1024, kernel_size = 1, bias = False)\n",
    "\n",
    "        self.dropout = nn.Dropout(p = 0.2)\n",
    "\n",
    "        self.conv_4 = nn.Conv2d(\n",
    "            in_channels = 1024, out_channels = 100, kernel_size = 1, bias = False)    \n",
    "\n",
    "        self.layers = nn.Sequential(\n",
    "            self.conv_1, self.batch_norm_1c, self.fuse_2, self.fuse_3, self.fuse_4, \n",
    "            self.fuse_5, self.fuse_6, self.fuse_7, self.fuse_8, self.fuse_9, self.fuse_10, \n",
    "            self.fuse_11, self.fuse_12, self.conv_2, self.batch_norm_2c, Hswish(), \n",
    "            self.avg_pooling, self.conv_3, Hswish(), self.dropout, self.conv_4\n",
    "        )\n",
    "\n",
    "    def forward(self, x):\n",
    "        for layer in self.layers:\n",
    "            x = layer(x)\n",
    "        return x\n",
    "\n",
    "def initialize_weights(net):\n",
    "\n",
    "    for m in net.modules():                                                                                          \n",
    "        if isinstance(m, nn.Conv2d):                                                                                         \n",
    "            nn.init.kaiming_normal_(m.weight, mode='fan_out')                                                                \n",
    "            if m.bias is not None:                                                                                           \n",
    "                nn.init.zeros_(m.bias)                                                                                       \n",
    "        elif isinstance(m, nn.BatchNorm2d):                                                                                  \n",
    "            nn.init.ones_(m.weight)                                                                                          \n",
    "            nn.init.zeros_(m.bias)                                                                                           \n",
    "        elif isinstance(m, nn.Linear):                                                                                       \n",
    "            nn.init.normal_(m.weight, 0, 0.01)                                                                               \n",
    "            if m.bias is not None:                                                                                           \n",
    "                nn.init.zeros_(m.bias) "
   ]
  },
  {
   "cell_type": "code",
   "execution_count": 9,
   "metadata": {
    "id": "MsFZ2pV-1Wsh"
   },
   "outputs": [],
   "source": [
    "transform_train = transforms.Compose([                                                                                                                                                  \n",
    "                    transforms.RandomCrop(32, padding=4),                                                                                                                               \n",
    "                    transforms.RandomHorizontalFlip(),                                                                                                                                  \n",
    "                    transforms.ToTensor(),                                                                                                                                              \n",
    "                    transforms.Normalize((0.4914, 0.4822, 0.4465), (0.2023, 0.1994, 0.2010)),                                                                                           \n",
    "])\n",
    "\n",
    "transform_test = transforms.Compose([                                                                                                                                                   \n",
    "                    transforms.ToTensor(),                                                                                                                                              \n",
    "                    transforms.Normalize((0.4914, 0.4822, 0.4465), (0.2023, 0.1994, 0.2010)),                                                                                           \n",
    "]) "
   ]
  },
  {
   "cell_type": "code",
   "execution_count": 10,
   "metadata": {
    "colab": {
     "base_uri": "https://localhost:8080/",
     "height": 100,
     "referenced_widgets": [
      "02b61a1ce6394b97b25bce6396d812cd",
      "0e6df24323c34863bf59e0da851e3afd",
      "b9031ffcbb77407da39dd215660d1309",
      "8f10d19ade88474f9fae6f307207a92c",
      "b40f3e7cbf774634a5e308281e5aeb6a",
      "6a0480ca176849e9a400033300635221",
      "ebb269c0d9ba438f99b6ef409b6f2602",
      "a5a9949c2c3e43208a6f2b1e358f68a9"
     ]
    },
    "id": "9zHDIYaers_Q",
    "outputId": "b3881543-46f8-45d6-f6e5-a365815cb5e5"
   },
   "outputs": [
    {
     "name": "stdout",
     "output_type": "stream",
     "text": [
      "Downloading https://www.cs.toronto.edu/~kriz/cifar-100-python.tar.gz to ./data/cifar-100-python.tar.gz\n"
     ]
    },
    {
     "data": {
      "application/vnd.jupyter.widget-view+json": {
       "model_id": "02b61a1ce6394b97b25bce6396d812cd",
       "version_major": 2,
       "version_minor": 0
      },
      "text/plain": [
       "HBox(children=(FloatProgress(value=1.0, bar_style='info', max=1.0), HTML(value='')))"
      ]
     },
     "metadata": {
      "tags": []
     },
     "output_type": "display_data"
    },
    {
     "name": "stdout",
     "output_type": "stream",
     "text": [
      "Extracting ./data/cifar-100-python.tar.gz to ./data\n",
      "Files already downloaded and verified\n"
     ]
    }
   ],
   "source": [
    "train_set = CIFAR100(root = './data', train = True, download = True, transform = transform_train)\n",
    "test_set = CIFAR100(root = './data', train = False, download = True, transform = transform_test)"
   ]
  },
  {
   "cell_type": "code",
   "execution_count": 11,
   "metadata": {
    "id": "roRMVxfKAw1K"
   },
   "outputs": [],
   "source": [
    "batch_size = 8\n",
    "train_loader = DataLoader(train_set, batch_size = batch_size, shuffle = True, num_workers = 2)\n",
    "test_loader = DataLoader(test_set, batch_size = len(test_set.data), shuffle = False, num_workers = 2)\n"
   ]
  },
  {
   "cell_type": "code",
   "execution_count": 25,
   "metadata": {
    "id": "RUqTy0OfBaJM"
   },
   "outputs": [],
   "source": [
    "model = FuseNet().to(device)\n",
    "model.apply(initialize_weights)\n",
    "criterion = nn.CrossEntropyLoss()\n",
    "optimizer = optim.Adam(model.parameters(), lr = 0.00005) # 0.0001 (sli oscillating)\n"
   ]
  },
  {
   "cell_type": "code",
   "execution_count": null,
   "metadata": {
    "colab": {
     "base_uri": "https://localhost:8080/",
     "height": 1000
    },
    "id": "y3vlPkMjHolu",
    "outputId": "dfd86744-f460-423c-f38b-7f255f1005ae"
   },
   "outputs": [
    {
     "name": "stdout",
     "output_type": "stream",
     "text": [
      "\n",
      "epoch 0\n",
      "loss: 4.1778059005737305, accuracy = 0.0\n",
      " Train set accuracy = 0.0   Train set loss = 4.263669490814209\n",
      "loss: 4.8751749992370605, accuracy = 0.0\n",
      " Train set accuracy = 0.0416666679084301   Train set loss = 4.103067398071289\n",
      "loss: 3.9397740364074707, accuracy = 0.25\n",
      " Train set accuracy = 0.0416666679084301   Train set loss = 4.2055983543396\n",
      "loss: 4.001214981079102, accuracy = 0.0\n",
      "epoch 1\n",
      "loss: 4.084036827087402, accuracy = 0.125\n",
      " Train set accuracy = 0.0   Train set loss = 4.032623291015625\n",
      "loss: 3.9493229389190674, accuracy = 0.125\n",
      " Train set accuracy = 0.0   Train set loss = 4.075560569763184\n",
      "loss: 4.08966588973999, accuracy = 0.125\n",
      " Train set accuracy = 0.0   Train set loss = 3.8731982707977295\n",
      "loss: 4.9734015464782715, accuracy = 0.125\n",
      "epoch 2\n",
      "loss: 4.588366508483887, accuracy = 0.0\n",
      " Train set accuracy = 0.0   Train set loss = 4.240174293518066\n",
      "loss: 4.05687952041626, accuracy = 0.0\n",
      " Train set accuracy = 0.02083333395421505   Train set loss = 4.4517927169799805\n",
      "loss: 3.9562134742736816, accuracy = 0.125\n",
      " Train set accuracy = 0.0   Train set loss = 4.2927398681640625\n",
      "loss: 3.9829678535461426, accuracy = 0.0\n",
      "epoch 3\n",
      "loss: 4.270646095275879, accuracy = 0.125\n",
      " Train set accuracy = 0.02083333395421505   Train set loss = 4.163797378540039\n",
      "loss: 3.8594205379486084, accuracy = 0.125\n",
      " Train set accuracy = 0.02083333395421505   Train set loss = 4.19876766204834\n",
      "loss: 4.406492710113525, accuracy = 0.125\n",
      " Train set accuracy = 0.0   Train set loss = 4.10432243347168\n",
      "loss: 3.6275994777679443, accuracy = 0.125\n",
      "epoch 4\n",
      "loss: 4.153325080871582, accuracy = 0.125\n",
      " Train set accuracy = 0.0   Train set loss = 3.7975258827209473\n",
      "loss: 3.6250767707824707, accuracy = 0.0\n",
      " Train set accuracy = 0.02083333395421505   Train set loss = 3.95803165435791\n",
      "loss: 3.945892810821533, accuracy = 0.125\n",
      " Train set accuracy = 0.0   Train set loss = 3.712559700012207\n",
      "loss: 3.4159975051879883, accuracy = 0.25\n",
      "epoch 5\n",
      "loss: 4.345427989959717, accuracy = 0.0\n",
      " Train set accuracy = 0.0   Train set loss = 3.786952495574951\n",
      "loss: 3.687436580657959, accuracy = 0.125\n",
      " Train set accuracy = 0.02083333395421505   Train set loss = 4.024380683898926\n",
      "loss: 4.602090835571289, accuracy = 0.0\n",
      " Train set accuracy = 0.0   Train set loss = 4.188300609588623\n",
      "loss: 3.2868921756744385, accuracy = 0.125\n",
      "epoch 6\n",
      "loss: 3.8696413040161133, accuracy = 0.125\n",
      " Train set accuracy = 0.0   Train set loss = 4.022845268249512\n",
      "loss: 4.259705066680908, accuracy = 0.125\n",
      " Train set accuracy = 0.02083333395421505   Train set loss = 4.298150539398193\n",
      "loss: 3.7129759788513184, accuracy = 0.25\n",
      " Train set accuracy = 0.0   Train set loss = 3.8587021827697754\n",
      "loss: 4.6233320236206055, accuracy = 0.0\n",
      "epoch 7\n",
      "loss: 3.9667136669158936, accuracy = 0.0\n",
      " Train set accuracy = 0.0416666679084301   Train set loss = 3.8674237728118896\n",
      "loss: 4.285928249359131, accuracy = 0.0\n",
      " Train set accuracy = 0.0   Train set loss = 3.9582748413085938\n",
      "loss: 3.468034267425537, accuracy = 0.375\n",
      " Train set accuracy = 0.0416666679084301   Train set loss = 3.589315414428711\n",
      "loss: 4.691498756408691, accuracy = 0.125\n",
      "epoch 8\n",
      "loss: 4.74508810043335, accuracy = 0.0\n",
      " Train set accuracy = 0.0   Train set loss = 3.7225759029388428\n",
      "loss: 3.027477502822876, accuracy = 0.25\n",
      " Train set accuracy = 0.0   Train set loss = 3.772340774536133\n",
      "loss: 3.8205766677856445, accuracy = 0.25\n",
      " Train set accuracy = 0.02083333395421505   Train set loss = 3.782343626022339\n",
      "loss: 3.4977734088897705, accuracy = 0.125\n",
      "epoch 9\n",
      "loss: 3.7681496143341064, accuracy = 0.125\n",
      " Train set accuracy = 0.0   Train set loss = 4.04976749420166\n",
      "loss: 3.6950387954711914, accuracy = 0.125\n",
      " Train set accuracy = 0.0   Train set loss = 3.659820079803467\n",
      "loss: 4.055278778076172, accuracy = 0.0\n",
      " Train set accuracy = 0.0416666679084301   Train set loss = 3.4980883598327637\n",
      "loss: 3.3169753551483154, accuracy = 0.25\n",
      "epoch 10\n",
      "loss: 4.1132493019104, accuracy = 0.125\n",
      " Train set accuracy = 0.0   Train set loss = 3.981304168701172\n",
      "loss: 3.5205459594726562, accuracy = 0.0\n",
      " Train set accuracy = 0.0   Train set loss = 3.860649824142456\n",
      "loss: 3.756704807281494, accuracy = 0.0\n",
      " Train set accuracy = 0.0   Train set loss = 3.7619142532348633\n",
      "loss: 4.095747470855713, accuracy = 0.0\n",
      "epoch 11\n",
      "loss: 4.287053108215332, accuracy = 0.125\n",
      " Train set accuracy = 0.0   Train set loss = 3.792833089828491\n",
      "loss: 3.709014654159546, accuracy = 0.125\n",
      " Train set accuracy = 0.02083333395421505   Train set loss = 3.670116424560547\n",
      "loss: 3.922002077102661, accuracy = 0.125\n",
      " Train set accuracy = 0.0   Train set loss = 4.113231182098389\n",
      "loss: 3.8578624725341797, accuracy = 0.125\n",
      "epoch 12\n",
      "loss: 3.666720390319824, accuracy = 0.0\n",
      " Train set accuracy = 0.02083333395421505   Train set loss = 3.6335790157318115\n",
      "loss: 3.2770307064056396, accuracy = 0.5\n",
      " Train set accuracy = 0.0   Train set loss = 3.637021541595459\n",
      "loss: 3.2812390327453613, accuracy = 0.25\n",
      " Train set accuracy = 0.0   Train set loss = 4.06068754196167\n",
      "loss: 3.858236312866211, accuracy = 0.0\n",
      "epoch 13\n",
      "loss: 3.2593417167663574, accuracy = 0.0\n",
      " Train set accuracy = 0.0   Train set loss = 3.774021625518799\n",
      "loss: 3.9171719551086426, accuracy = 0.0\n",
      " Train set accuracy = 0.0   Train set loss = 3.819878578186035\n",
      "loss: 3.096449613571167, accuracy = 0.375\n",
      " Train set accuracy = 0.0416666679084301   Train set loss = 3.805058002471924\n",
      "loss: 3.048490047454834, accuracy = 0.375\n",
      "epoch 14\n",
      "loss: 2.9817328453063965, accuracy = 0.125\n",
      " Train set accuracy = 0.0   Train set loss = 3.917219877243042\n",
      "loss: 2.8185062408447266, accuracy = 0.5\n",
      " Train set accuracy = 0.0416666679084301   Train set loss = 3.8346593379974365\n",
      "loss: 3.565988063812256, accuracy = 0.125\n",
      " Train set accuracy = 0.0   Train set loss = 3.6972577571868896\n",
      "loss: 3.5121448040008545, accuracy = 0.125\n",
      "epoch 15\n",
      "loss: 3.674776077270508, accuracy = 0.0\n",
      " Train set accuracy = 0.0   Train set loss = 3.4016976356506348\n",
      "loss: 3.218515634536743, accuracy = 0.25\n",
      " Train set accuracy = 0.0   Train set loss = 3.8924880027770996\n",
      "loss: 4.869668483734131, accuracy = 0.0\n",
      " Train set accuracy = 0.0   Train set loss = 3.6350035667419434\n",
      "loss: 4.1638383865356445, accuracy = 0.0\n",
      "epoch 16\n",
      "loss: 3.6575961112976074, accuracy = 0.25\n",
      " Train set accuracy = 0.0   Train set loss = 3.711961507797241\n",
      "loss: 3.3047285079956055, accuracy = 0.125\n",
      " Train set accuracy = 0.02083333395421505   Train set loss = 4.0660400390625\n",
      "loss: 3.2313809394836426, accuracy = 0.125\n",
      " Train set accuracy = 0.0   Train set loss = 3.4546289443969727\n",
      "loss: 4.237505912780762, accuracy = 0.0\n",
      "epoch 17\n",
      "loss: 3.2100038528442383, accuracy = 0.25\n",
      " Train set accuracy = 0.0   Train set loss = 3.699152946472168\n",
      "loss: 3.5850229263305664, accuracy = 0.125\n",
      " Train set accuracy = 0.0   Train set loss = 3.3635566234588623\n",
      "loss: 3.983417510986328, accuracy = 0.0\n",
      " Train set accuracy = 0.02083333395421505   Train set loss = 3.7677526473999023\n",
      "loss: 3.7879655361175537, accuracy = 0.125\n",
      "epoch 18\n",
      "loss: 3.555119514465332, accuracy = 0.0\n",
      " Train set accuracy = 0.0   Train set loss = 3.659879207611084\n",
      "loss: 3.318091869354248, accuracy = 0.0\n",
      " Train set accuracy = 0.0   Train set loss = 3.4515438079833984\n",
      "loss: 2.9789743423461914, accuracy = 0.125\n",
      " Train set accuracy = 0.0416666679084301   Train set loss = 3.812384605407715\n",
      "loss: 3.9987714290618896, accuracy = 0.125\n",
      "epoch 19\n",
      "loss: 3.122066020965576, accuracy = 0.0"
     ]
    }
   ],
   "source": [
    "for epoch in range(100):  \n",
    "\n",
    "    print(f'\\nepoch {epoch}')\n",
    "    for i, (inputs, labels) in enumerate(train_loader, 0):\n",
    "\n",
    "        inputs, labels = inputs.to(device), labels.to(device)\n",
    "        optimizer.zero_grad()\n",
    "        output = model(inputs).squeeze()\n",
    "        loss = criterion(output, labels)\n",
    "        \n",
    "        loss.backward()\n",
    "        optimizer.step()\n",
    "\n",
    "        output = model(inputs).squeeze()\n",
    "        preds = torch.argmax(output, dim = 1)\n",
    "        accuracy = (preds == labels).float().mean()\n",
    "\n",
    "        print(f\"\\rloss: {loss.item()}, accuracy = {accuracy}\", end = \"\", flush = True)\n",
    "\n",
    "        if (i % 2000 == 0) and (i > 0):\n",
    "            with torch.no_grad():\n",
    "                avg_loss, avg_accuracy = [], []\n",
    "                for j, (X, y) in enumerate(train_loader):\n",
    "                    X, y = X.to(device), y.to(device)\n",
    "                    preds = model(X).squeeze()\n",
    "                    loss = criterion(preds, y)\n",
    "                    avg_loss.append(loss)\n",
    "                    preds = torch.argmax(preds, dim = 1)\n",
    "                    accuracy = (preds == labels).float().mean()\n",
    "                    avg_accuracy.append(accuracy)\n",
    "\n",
    "                    if j == 5:\n",
    "                        break\n",
    "                avg_loss = sum(avg_loss) / len(avg_loss)\n",
    "                avg_accuracy = sum(avg_accuracy) / len(avg_accuracy)\n",
    "                print(f\"\\n Train set accuracy = {avg_accuracy}   Train set loss = {avg_loss}\")\n",
    "        \n",
    "print('Finished Training')\n"
   ]
  },
  {
   "cell_type": "code",
   "execution_count": null,
   "metadata": {
    "id": "SvcBQlswTyrX"
   },
   "outputs": [],
   "source": []
  }
 ],
 "metadata": {
  "accelerator": "GPU",
  "colab": {
   "collapsed_sections": [],
   "include_colab_link": true,
   "name": "define_network.ipynb",
   "provenance": []
  },
  "kernelspec": {
   "display_name": "Python 3",
   "language": "python",
   "name": "python3"
  },
  "language_info": {
   "codemirror_mode": {
    "name": "ipython",
    "version": 3
   },
   "file_extension": ".py",
   "mimetype": "text/x-python",
   "name": "python",
   "nbconvert_exporter": "python",
   "pygments_lexer": "ipython3",
   "version": "3.7.3"
  },
  "toc": {
   "base_numbering": 1,
   "nav_menu": {},
   "number_sections": true,
   "sideBar": true,
   "skip_h1_title": false,
   "title_cell": "Table of Contents",
   "title_sidebar": "Contents",
   "toc_cell": false,
   "toc_position": {},
   "toc_section_display": true,
   "toc_window_display": false
  },
  "varInspector": {
   "cols": {
    "lenName": 16,
    "lenType": 16,
    "lenVar": 40
   },
   "kernels_config": {
    "python": {
     "delete_cmd_postfix": "",
     "delete_cmd_prefix": "del ",
     "library": "var_list.py",
     "varRefreshCmd": "print(var_dic_list())"
    },
    "r": {
     "delete_cmd_postfix": ") ",
     "delete_cmd_prefix": "rm(",
     "library": "var_list.r",
     "varRefreshCmd": "cat(var_dic_list()) "
    }
   },
   "types_to_exclude": [
    "module",
    "function",
    "builtin_function_or_method",
    "instance",
    "_Feature"
   ],
   "window_display": false
  },
  "widgets": {
   "application/vnd.jupyter.widget-state+json": {
    "02b61a1ce6394b97b25bce6396d812cd": {
     "model_module": "@jupyter-widgets/controls",
     "model_name": "HBoxModel",
     "state": {
      "_dom_classes": [],
      "_model_module": "@jupyter-widgets/controls",
      "_model_module_version": "1.5.0",
      "_model_name": "HBoxModel",
      "_view_count": null,
      "_view_module": "@jupyter-widgets/controls",
      "_view_module_version": "1.5.0",
      "_view_name": "HBoxView",
      "box_style": "",
      "children": [
       "IPY_MODEL_b9031ffcbb77407da39dd215660d1309",
       "IPY_MODEL_8f10d19ade88474f9fae6f307207a92c"
      ],
      "layout": "IPY_MODEL_0e6df24323c34863bf59e0da851e3afd"
     }
    },
    "0e6df24323c34863bf59e0da851e3afd": {
     "model_module": "@jupyter-widgets/base",
     "model_name": "LayoutModel",
     "state": {
      "_model_module": "@jupyter-widgets/base",
      "_model_module_version": "1.2.0",
      "_model_name": "LayoutModel",
      "_view_count": null,
      "_view_module": "@jupyter-widgets/base",
      "_view_module_version": "1.2.0",
      "_view_name": "LayoutView",
      "align_content": null,
      "align_items": null,
      "align_self": null,
      "border": null,
      "bottom": null,
      "display": null,
      "flex": null,
      "flex_flow": null,
      "grid_area": null,
      "grid_auto_columns": null,
      "grid_auto_flow": null,
      "grid_auto_rows": null,
      "grid_column": null,
      "grid_gap": null,
      "grid_row": null,
      "grid_template_areas": null,
      "grid_template_columns": null,
      "grid_template_rows": null,
      "height": null,
      "justify_content": null,
      "justify_items": null,
      "left": null,
      "margin": null,
      "max_height": null,
      "max_width": null,
      "min_height": null,
      "min_width": null,
      "object_fit": null,
      "object_position": null,
      "order": null,
      "overflow": null,
      "overflow_x": null,
      "overflow_y": null,
      "padding": null,
      "right": null,
      "top": null,
      "visibility": null,
      "width": null
     }
    },
    "6a0480ca176849e9a400033300635221": {
     "model_module": "@jupyter-widgets/base",
     "model_name": "LayoutModel",
     "state": {
      "_model_module": "@jupyter-widgets/base",
      "_model_module_version": "1.2.0",
      "_model_name": "LayoutModel",
      "_view_count": null,
      "_view_module": "@jupyter-widgets/base",
      "_view_module_version": "1.2.0",
      "_view_name": "LayoutView",
      "align_content": null,
      "align_items": null,
      "align_self": null,
      "border": null,
      "bottom": null,
      "display": null,
      "flex": null,
      "flex_flow": null,
      "grid_area": null,
      "grid_auto_columns": null,
      "grid_auto_flow": null,
      "grid_auto_rows": null,
      "grid_column": null,
      "grid_gap": null,
      "grid_row": null,
      "grid_template_areas": null,
      "grid_template_columns": null,
      "grid_template_rows": null,
      "height": null,
      "justify_content": null,
      "justify_items": null,
      "left": null,
      "margin": null,
      "max_height": null,
      "max_width": null,
      "min_height": null,
      "min_width": null,
      "object_fit": null,
      "object_position": null,
      "order": null,
      "overflow": null,
      "overflow_x": null,
      "overflow_y": null,
      "padding": null,
      "right": null,
      "top": null,
      "visibility": null,
      "width": null
     }
    },
    "8f10d19ade88474f9fae6f307207a92c": {
     "model_module": "@jupyter-widgets/controls",
     "model_name": "HTMLModel",
     "state": {
      "_dom_classes": [],
      "_model_module": "@jupyter-widgets/controls",
      "_model_module_version": "1.5.0",
      "_model_name": "HTMLModel",
      "_view_count": null,
      "_view_module": "@jupyter-widgets/controls",
      "_view_module_version": "1.5.0",
      "_view_name": "HTMLView",
      "description": "",
      "description_tooltip": null,
      "layout": "IPY_MODEL_a5a9949c2c3e43208a6f2b1e358f68a9",
      "placeholder": "​",
      "style": "IPY_MODEL_ebb269c0d9ba438f99b6ef409b6f2602",
      "value": " 169009152/? [00:20&lt;00:00, 52206124.59it/s]"
     }
    },
    "a5a9949c2c3e43208a6f2b1e358f68a9": {
     "model_module": "@jupyter-widgets/base",
     "model_name": "LayoutModel",
     "state": {
      "_model_module": "@jupyter-widgets/base",
      "_model_module_version": "1.2.0",
      "_model_name": "LayoutModel",
      "_view_count": null,
      "_view_module": "@jupyter-widgets/base",
      "_view_module_version": "1.2.0",
      "_view_name": "LayoutView",
      "align_content": null,
      "align_items": null,
      "align_self": null,
      "border": null,
      "bottom": null,
      "display": null,
      "flex": null,
      "flex_flow": null,
      "grid_area": null,
      "grid_auto_columns": null,
      "grid_auto_flow": null,
      "grid_auto_rows": null,
      "grid_column": null,
      "grid_gap": null,
      "grid_row": null,
      "grid_template_areas": null,
      "grid_template_columns": null,
      "grid_template_rows": null,
      "height": null,
      "justify_content": null,
      "justify_items": null,
      "left": null,
      "margin": null,
      "max_height": null,
      "max_width": null,
      "min_height": null,
      "min_width": null,
      "object_fit": null,
      "object_position": null,
      "order": null,
      "overflow": null,
      "overflow_x": null,
      "overflow_y": null,
      "padding": null,
      "right": null,
      "top": null,
      "visibility": null,
      "width": null
     }
    },
    "b40f3e7cbf774634a5e308281e5aeb6a": {
     "model_module": "@jupyter-widgets/controls",
     "model_name": "ProgressStyleModel",
     "state": {
      "_model_module": "@jupyter-widgets/controls",
      "_model_module_version": "1.5.0",
      "_model_name": "ProgressStyleModel",
      "_view_count": null,
      "_view_module": "@jupyter-widgets/base",
      "_view_module_version": "1.2.0",
      "_view_name": "StyleView",
      "bar_color": null,
      "description_width": "initial"
     }
    },
    "b9031ffcbb77407da39dd215660d1309": {
     "model_module": "@jupyter-widgets/controls",
     "model_name": "FloatProgressModel",
     "state": {
      "_dom_classes": [],
      "_model_module": "@jupyter-widgets/controls",
      "_model_module_version": "1.5.0",
      "_model_name": "FloatProgressModel",
      "_view_count": null,
      "_view_module": "@jupyter-widgets/controls",
      "_view_module_version": "1.5.0",
      "_view_name": "ProgressView",
      "bar_style": "info",
      "description": "",
      "description_tooltip": null,
      "layout": "IPY_MODEL_6a0480ca176849e9a400033300635221",
      "max": 1,
      "min": 0,
      "orientation": "horizontal",
      "style": "IPY_MODEL_b40f3e7cbf774634a5e308281e5aeb6a",
      "value": 1
     }
    },
    "ebb269c0d9ba438f99b6ef409b6f2602": {
     "model_module": "@jupyter-widgets/controls",
     "model_name": "DescriptionStyleModel",
     "state": {
      "_model_module": "@jupyter-widgets/controls",
      "_model_module_version": "1.5.0",
      "_model_name": "DescriptionStyleModel",
      "_view_count": null,
      "_view_module": "@jupyter-widgets/base",
      "_view_module_version": "1.2.0",
      "_view_name": "StyleView",
      "description_width": ""
     }
    }
   }
  }
 },
 "nbformat": 4,
 "nbformat_minor": 1
}
